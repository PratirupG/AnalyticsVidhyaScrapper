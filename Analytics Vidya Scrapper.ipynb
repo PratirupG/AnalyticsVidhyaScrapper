{
 "cells": [
  {
   "cell_type": "code",
   "execution_count": 71,
   "metadata": {},
   "outputs": [],
   "source": [
    "from selenium import webdriver\n",
    "titles = []\n",
    "links = []\n",
    "for i in range(1,43):\n",
    "    driver = webdriver.Chrome(r'C:\\Users\\BABI\\chromedriver_win32\\chromedriver.exe')\n",
    "    l= 'https://www.analyticsvidhya.com/blog/category/machine-learning/page/{}/'.format(i)\n",
    "    driver.get(l)\n",
    "    tiltes_links = driver.find_elements_by_xpath(\"//h3[@class='entry-title']/a\")\n",
    "    for items in tiltes_links:\n",
    "        titles.append(items.get_attribute('title'))\n",
    "        links.append(items.get_attribute('href'))\n",
    "    driver.close()\n",
    "\n",
    "## Scrap documents description\n",
    "documents = []\n",
    "for link in links:\n",
    "    driver = webdriver.Chrome(r'C:\\Users\\BABI\\chromedriver_win32\\chromedriver.exe')\n",
    "    driver.get(link)\n",
    "    \n",
    "    doc = []\n",
    "    description_p = driver.find_elements_by_tag_name('p')\n",
    "    for para in description_p:\n",
    "        doc.append(para.text)\n",
    "\n",
    "    documents.append(''.join(doc))\n",
    "    \n",
    "    driver.close()\n",
    "dataset = pa.DataFrame({'Titles':titles,'Links':links,'Description':documents})    \n",
    "dataset.to_csv('analytics_vidya.csv')"
   ]
  },
  {
   "cell_type": "code",
   "execution_count": null,
   "metadata": {},
   "outputs": [],
   "source": []
  }
 ],
 "metadata": {
  "kernelspec": {
   "display_name": "Python 3",
   "language": "python",
   "name": "python3"
  },
  "language_info": {
   "codemirror_mode": {
    "name": "ipython",
    "version": 3
   },
   "file_extension": ".py",
   "mimetype": "text/x-python",
   "name": "python",
   "nbconvert_exporter": "python",
   "pygments_lexer": "ipython3",
   "version": "3.7.1"
  }
 },
 "nbformat": 4,
 "nbformat_minor": 2
}
